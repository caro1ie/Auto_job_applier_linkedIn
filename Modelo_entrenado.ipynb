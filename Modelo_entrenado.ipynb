{
  "nbformat": 4,
  "nbformat_minor": 0,
  "metadata": {
    "colab": {
      "provenance": [],
      "include_colab_link": true
    },
    "kernelspec": {
      "name": "python3",
      "display_name": "Python 3"
    },
    "language_info": {
      "name": "python"
    }
  },
  "cells": [
    {
      "cell_type": "markdown",
      "metadata": {
        "id": "view-in-github",
        "colab_type": "text"
      },
      "source": [
        "<a href=\"https://colab.research.google.com/github/caro1ie/Auto_job_applier_linkedIn/blob/main/Modelo_entrenado.ipynb\" target=\"_parent\"><img src=\"https://colab.research.google.com/assets/colab-badge.svg\" alt=\"Open In Colab\"/></a>"
      ]
    },
    {
      "cell_type": "code",
      "execution_count": null,
      "metadata": {
        "id": "15Ye81sK72oe"
      },
      "outputs": [],
      "source": [
        "# Librerias\n",
        "import os\n",
        "import random\n",
        "import shutil\n",
        "import numpy as np\n",
        "import tensorflow as tf\n",
        "from tensorflow.keras.preprocessing.image import ImageDataGenerator\n",
        "from sklearn.model_selection import train_test_split\n",
        "from tensorflow.keras.utils import to_categorical\n",
        "import matplotlib.pyplot as plt"
      ]
    },
    {
      "cell_type": "code",
      "source": [
        "# Clonar repositorio de GitHub\n",
        "!git clone https://github.com/spMohanty/PlantVillage-Dataset.git\n"
      ],
      "metadata": {
        "colab": {
          "base_uri": "https://localhost:8080/"
        },
        "id": "uPRfptC_756_",
        "outputId": "4087b4c0-8ab6-40b3-e451-08bef1159f9b"
      },
      "execution_count": null,
      "outputs": [
        {
          "output_type": "stream",
          "name": "stdout",
          "text": [
            "Cloning into 'PlantVillage-Dataset'...\n",
            "remote: Enumerating objects: 163235, done.\u001b[K\n",
            "remote: Counting objects: 100% (6/6), done.\u001b[K\n",
            "remote: Compressing objects: 100% (6/6), done.\u001b[K\n",
            "remote: Total 163235 (delta 2), reused 0 (delta 0), pack-reused 163229 (from 1)\u001b[K\n",
            "Receiving objects: 100% (163235/163235), 2.00 GiB | 31.04 MiB/s, done.\n",
            "Resolving deltas: 100% (101/101), done.\n",
            "Updating files: 100% (182401/182401), done.\n"
          ]
        }
      ]
    },
    {
      "cell_type": "code",
      "source": [
        "# Ruta de imágenes\n",
        "base_dir = \"/content/PlantVillage-Dataset/raw/color/\"\n",
        "# Carpetas con imágenes de hojas sanas y enfermas\n",
        "healthy_folders = ['Apple___healthy', 'Blueberry___healthy', 'Cherry_(including_sour)___healthy',\n",
        "                   'Corn_(maize)___healthy', 'Grape___healthy', 'Peach___healthy', 'Pepper,_bell___healthy',\n",
        "                   'Potato___healthy', 'Raspberry___healthy', 'Soybean___healthy', 'Strawberry___healthy',\n",
        "                   'Tomato___healthy']\n",
        "disease_folders = [folder for folder in os.listdir(base_dir) if \"healthy\" not in folder and folder != '.git']\n",
        "\n",
        "# Diccionario para guardar las imágenes\n",
        "sampled_data_dir = '/content/sample_data'\n",
        "os.makedirs(sampled_data_dir, exist_ok=True)\n",
        "\n",
        "# Diccionario para almacenar las rutas y sus respectivas carpetas\n",
        "image_source = {}\n",
        "\n",
        "# Función para agarrar muestra de imágenes de manera random de cada carpeta y guardar origen\n",
        "def sample_images(folder_list, label, sample_size=1000):\n",
        "    img_paths = []\n",
        "    labels = []\n",
        "\n",
        "    for folder in folder_list:\n",
        "        folder_path = os.path.join(base_dir, folder)\n",
        "        images = os.listdir(folder_path)\n",
        "        sampled_images = random.sample(images, min(sample_size, len(images)))\n",
        "\n",
        "        for img in sampled_images:\n",
        "            img_src = os.path.join(folder_path, img)\n",
        "            img_dst = os.path.join(sampled_data_dir, img)\n",
        "            shutil.copy(img_src, img_dst)\n",
        "            img_paths.append(img_dst)\n",
        "            labels.append(label)\n",
        "            # Guardar el origen de la imagen\n",
        "            image_source[img_dst] = folder  # Aca se almacena la carpeta de origen\n",
        "\n",
        "    return img_paths, labels\n",
        "\n",
        "# Sample de imágenes de ambas carpetas\n",
        "healthy_img_paths, healthy_labels = sample_images(healthy_folders, label=0, sample_size=1000)\n",
        "disease_img_paths, disease_labels = sample_images(disease_folders, label=1, sample_size=1000)\n",
        "\n",
        "# Combinar data de sanas y enfermas\n",
        "all_img_paths = healthy_img_paths + disease_img_paths\n",
        "all_labels = healthy_labels + disease_labels\n"
      ],
      "metadata": {
        "id": "oEZ2sYkh93Ra"
      },
      "execution_count": null,
      "outputs": []
    },
    {
      "cell_type": "code",
      "source": [
        "# Split train, test y val\n",
        "train_paths, test_paths, train_labels, test_labels = train_test_split(all_img_paths, all_labels, test_size=0.2, random_state=42)\n",
        "train_paths, val_paths, train_labels, val_labels = train_test_split(train_paths, train_labels, test_size=0.25, random_state=42)\n",
        "\n",
        "# Generador de data (normalizar)\n",
        "datagen = ImageDataGenerator(rescale=1./255)\n",
        "\n",
        "# Generador personalizado que carga imágenes y rutas de origen (ajustado para solo devolver images y labels)\n",
        "def create_generator(image_paths, labels, batch_size=32):\n",
        "    while True:\n",
        "        for i in range(0, len(image_paths), batch_size):\n",
        "            batch_paths = image_paths[i:i+batch_size]\n",
        "            batch_labels = labels[i:i+batch_size]\n",
        "            images = []\n",
        "\n",
        "            for img_path in batch_paths:\n",
        "                img = tf.keras.preprocessing.image.load_img(img_path, target_size=(128, 128))\n",
        "                img = tf.keras.preprocessing.image.img_to_array(img)\n",
        "                images.append(img)\n",
        "\n",
        "            images = np.array(images) / 255.0  # Normalize\n",
        "            batch_labels = to_categorical(batch_labels, num_classes=2)  # One-hot encode the labels\n",
        "\n",
        "            yield images, batch_labels  # Devolver solo images y labels\n",
        "\n",
        "# Generadores de train, test y val con el generador ajustado\n",
        "train_gen = create_generator(train_paths, train_labels)\n",
        "val_gen = create_generator(val_paths, val_labels)\n",
        "test_gen = create_generator(test_paths, test_labels)"
      ],
      "metadata": {
        "id": "25lJTFLU-Baa"
      },
      "execution_count": null,
      "outputs": []
    },
    {
      "cell_type": "code",
      "source": [
        "# Definir la arquitectura de la CNN\n",
        "model = tf.keras.Sequential([\n",
        "    tf.keras.layers.Conv2D(32, (3, 3), activation='relu', input_shape=(128, 128, 3)),\n",
        "    tf.keras.layers.MaxPooling2D((2, 2)),\n",
        "\n",
        "    tf.keras.layers.Conv2D(64, (3, 3), activation='relu'),\n",
        "    tf.keras.layers.MaxPooling2D((2, 2)),\n",
        "\n",
        "    tf.keras.layers.Conv2D(128, (3, 3), activation='relu'),\n",
        "    tf.keras.layers.MaxPooling2D((2, 2)),\n",
        "\n",
        "    tf.keras.layers.Flatten(),\n",
        "    tf.keras.layers.Dense(128, activation='relu'),\n",
        "    tf.keras.layers.Dropout(0.5),\n",
        "    tf.keras.layers.Dense(2, activation='softmax')  # 2 salidas para clasificación binaria\n",
        "])\n",
        "\n",
        "# Compilar el modelo\n",
        "model.compile(optimizer='adam', loss='binary_crossentropy', metrics=['accuracy'])\n",
        "\n",
        "# Parámetros para entrenamiento\n",
        "batch_size = 32\n",
        "epochs = 10\n",
        "steps_per_epoch = len(train_paths) // batch_size\n",
        "validation_steps = len(val_paths) // batch_size\n"
      ],
      "metadata": {
        "id": "HOmJ6vBA-GaT",
        "colab": {
          "base_uri": "https://localhost:8080/"
        },
        "outputId": "0999c9ff-f923-4ab3-de3d-c08247a3ec56"
      },
      "execution_count": null,
      "outputs": [
        {
          "output_type": "stream",
          "name": "stderr",
          "text": [
            "/usr/local/lib/python3.10/dist-packages/keras/src/layers/convolutional/base_conv.py:107: UserWarning: Do not pass an `input_shape`/`input_dim` argument to a layer. When using Sequential models, prefer using an `Input(shape)` object as the first layer in the model instead.\n",
            "  super().__init__(activity_regularizer=activity_regularizer, **kwargs)\n"
          ]
        }
      ]
    },
    {
      "cell_type": "code",
      "source": [
        "# Entrenar el modelo\n",
        "history = model.fit(\n",
        "    train_gen,\n",
        "    steps_per_epoch=steps_per_epoch,\n",
        "    epochs=epochs,\n",
        "    validation_data=val_gen,\n",
        "    validation_steps=validation_steps\n",
        ")"
      ],
      "metadata": {
        "colab": {
          "base_uri": "https://localhost:8080/"
        },
        "id": "Hurbs-pj-HPp",
        "outputId": "0cb83f29-ff53-4ce8-c4f2-65ad94c2d274"
      },
      "execution_count": null,
      "outputs": [
        {
          "output_type": "stream",
          "name": "stdout",
          "text": [
            "Epoch 1/10\n",
            "\u001b[1m599/599\u001b[0m \u001b[32m━━━━━━━━━━━━━━━━━━━━\u001b[0m\u001b[37m\u001b[0m \u001b[1m762s\u001b[0m 1s/step - accuracy: 0.7719 - loss: 0.4546 - val_accuracy: 0.9193 - val_loss: 0.2143\n",
            "Epoch 2/10\n",
            "\u001b[1m599/599\u001b[0m \u001b[32m━━━━━━━━━━━━━━━━━━━━\u001b[0m\u001b[37m\u001b[0m \u001b[1m758s\u001b[0m 1s/step - accuracy: 0.9264 - loss: 0.1804 - val_accuracy: 0.9620 - val_loss: 0.1199\n",
            "Epoch 3/10\n",
            "\u001b[1m599/599\u001b[0m \u001b[32m━━━━━━━━━━━━━━━━━━━━\u001b[0m\u001b[37m\u001b[0m \u001b[1m781s\u001b[0m 1s/step - accuracy: 0.9555 - loss: 0.1122 - val_accuracy: 0.9670 - val_loss: 0.1011\n",
            "Epoch 4/10\n",
            "\u001b[1m599/599\u001b[0m \u001b[32m━━━━━━━━━━━━━━━━━━━━\u001b[0m\u001b[37m\u001b[0m \u001b[1m778s\u001b[0m 1s/step - accuracy: 0.9728 - loss: 0.0753 - val_accuracy: 0.9813 - val_loss: 0.0823\n",
            "Epoch 5/10\n",
            "\u001b[1m599/599\u001b[0m \u001b[32m━━━━━━━━━━━━━━━━━━━━\u001b[0m\u001b[37m\u001b[0m \u001b[1m759s\u001b[0m 1s/step - accuracy: 0.9776 - loss: 0.0622 - val_accuracy: 0.9726 - val_loss: 0.1059\n",
            "Epoch 6/10\n",
            "\u001b[1m599/599\u001b[0m \u001b[32m━━━━━━━━━━━━━━━━━━━━\u001b[0m\u001b[37m\u001b[0m \u001b[1m748s\u001b[0m 1s/step - accuracy: 0.9823 - loss: 0.0499 - val_accuracy: 0.9865 - val_loss: 0.0934\n",
            "Epoch 7/10\n",
            "\u001b[1m599/599\u001b[0m \u001b[32m━━━━━━━━━━━━━━━━━━━━\u001b[0m\u001b[37m\u001b[0m \u001b[1m753s\u001b[0m 1s/step - accuracy: 0.9873 - loss: 0.0357 - val_accuracy: 0.9813 - val_loss: 0.1317\n",
            "Epoch 8/10\n",
            "\u001b[1m599/599\u001b[0m \u001b[32m━━━━━━━━━━━━━━━━━━━━\u001b[0m\u001b[37m\u001b[0m \u001b[1m749s\u001b[0m 1s/step - accuracy: 0.9872 - loss: 0.0327 - val_accuracy: 0.9764 - val_loss: 0.1137\n",
            "Epoch 9/10\n",
            "\u001b[1m599/599\u001b[0m \u001b[32m━━━━━━━━━━━━━━━━━━━━\u001b[0m\u001b[37m\u001b[0m \u001b[1m746s\u001b[0m 1s/step - accuracy: 0.9906 - loss: 0.0272 - val_accuracy: 0.9865 - val_loss: 0.1083\n",
            "Epoch 10/10\n",
            "\u001b[1m599/599\u001b[0m \u001b[32m━━━━━━━━━━━━━━━━━━━━\u001b[0m\u001b[37m\u001b[0m \u001b[1m752s\u001b[0m 1s/step - accuracy: 0.9892 - loss: 0.0328 - val_accuracy: 0.9763 - val_loss: 0.1565\n"
          ]
        }
      ]
    },
    {
      "cell_type": "code",
      "source": [
        "# Evaluar el modelo con el set de prueba\n",
        "test_loss, test_acc = model.evaluate(test_gen, steps=len(test_paths) // batch_size)\n",
        "print(f\"Precisión en el set de prueba: {test_acc * 100:.2f}%\")"
      ],
      "metadata": {
        "colab": {
          "base_uri": "https://localhost:8080/"
        },
        "id": "YaRfXux--J_a",
        "outputId": "873a8dc6-091a-4974-9c43-156d7187cffd"
      },
      "execution_count": null,
      "outputs": [
        {
          "output_type": "stream",
          "name": "stdout",
          "text": [
            "\u001b[1m199/199\u001b[0m \u001b[32m━━━━━━━━━━━━━━━━━━━━\u001b[0m\u001b[37m\u001b[0m \u001b[1m70s\u001b[0m 354ms/step - accuracy: 0.9795 - loss: 0.0680\n",
            "Precisión en el set de prueba: 97.72%\n"
          ]
        }
      ]
    },
    {
      "cell_type": "code",
      "source": [
        "#GRAFICA DE PRECISION CON 10 ETAPAS\n",
        "\n",
        "history = model.fit(\n",
        "    train_gen,\n",
        "    steps_per_epoch=steps_per_epoch,\n",
        "    epochs=epochs,\n",
        "    validation_data=val_gen,\n",
        "    validation_steps=validation_steps\n",
        ")\n",
        "\n",
        "!pip install matplotlib\n",
        "\n",
        "import matplotlib.pyplot as plt\n",
        "\n",
        "# Extraer las métricas de precisión del historial de entrenamiento\n",
        "acc = history.history['accuracy']\n",
        "val_acc = history.history['val_accuracy']\n",
        "\n",
        "# Crear un gráfico con los valores de precisión por épocas\n",
        "epochs_range = range(1, len(acc) + 1)\n",
        "\n",
        "plt.figure(figsize=(8, 6))\n",
        "plt.plot(epochs_range, acc, label='Precisión en Entrenamiento')\n",
        "plt.plot(epochs_range, val_acc, label='Precisión en Validación')\n",
        "plt.title('Curva de Precisión por Épocas')\n",
        "plt.xlabel('Épocas')\n",
        "plt.ylabel('Precisión')\n",
        "plt.legend(loc='lower right')\n",
        "plt.grid(True)\n",
        "plt.show()\n"
      ],
      "metadata": {
        "id": "HGLTb7iFrYtf",
        "colab": {
          "base_uri": "https://localhost:8080/",
          "height": 1000
        },
        "outputId": "94cf8871-0051-46b0-8727-4f667f88bd28"
      },
      "execution_count": null,
      "outputs": [
        {
          "output_type": "stream",
          "name": "stdout",
          "text": [
            "Epoch 1/10\n",
            "\u001b[1m599/599\u001b[0m \u001b[32m━━━━━━━━━━━━━━━━━━━━\u001b[0m\u001b[37m\u001b[0m \u001b[1m775s\u001b[0m 1s/step - accuracy: 0.9861 - loss: 0.0407 - val_accuracy: 0.9803 - val_loss: 0.1523\n",
            "Epoch 2/10\n",
            "\u001b[1m599/599\u001b[0m \u001b[32m━━━━━━━━━━━━━━━━━━━━\u001b[0m\u001b[37m\u001b[0m \u001b[1m748s\u001b[0m 1s/step - accuracy: 0.9916 - loss: 0.0224 - val_accuracy: 0.9868 - val_loss: 0.1182\n",
            "Epoch 3/10\n",
            "\u001b[1m599/599\u001b[0m \u001b[32m━━━━━━━━━━━━━━━━━━━━\u001b[0m\u001b[37m\u001b[0m \u001b[1m738s\u001b[0m 1s/step - accuracy: 0.9956 - loss: 0.0119 - val_accuracy: 0.9690 - val_loss: 0.1918\n",
            "Epoch 4/10\n",
            "\u001b[1m599/599\u001b[0m \u001b[32m━━━━━━━━━━━━━━━━━━━━\u001b[0m\u001b[37m\u001b[0m \u001b[1m742s\u001b[0m 1s/step - accuracy: 0.9925 - loss: 0.0201 - val_accuracy: 0.9843 - val_loss: 0.1592\n",
            "Epoch 5/10\n",
            "\u001b[1m599/599\u001b[0m \u001b[32m━━━━━━━━━━━━━━━━━━━━\u001b[0m\u001b[37m\u001b[0m \u001b[1m739s\u001b[0m 1s/step - accuracy: 0.9930 - loss: 0.0222 - val_accuracy: 0.9763 - val_loss: 0.2295\n",
            "Epoch 6/10\n",
            "\u001b[1m599/599\u001b[0m \u001b[32m━━━━━━━━━━━━━━━━━━━━\u001b[0m\u001b[37m\u001b[0m \u001b[1m739s\u001b[0m 1s/step - accuracy: 0.9924 - loss: 0.0228 - val_accuracy: 0.9876 - val_loss: 0.1491\n",
            "Epoch 7/10\n",
            "\u001b[1m599/599\u001b[0m \u001b[32m━━━━━━━━━━━━━━━━━━━━\u001b[0m\u001b[37m\u001b[0m \u001b[1m745s\u001b[0m 1s/step - accuracy: 0.9964 - loss: 0.0117 - val_accuracy: 0.9352 - val_loss: 0.5060\n",
            "Epoch 8/10\n",
            "\u001b[1m599/599\u001b[0m \u001b[32m━━━━━━━━━━━━━━━━━━━━\u001b[0m\u001b[37m\u001b[0m \u001b[1m750s\u001b[0m 1s/step - accuracy: 0.9924 - loss: 0.0259 - val_accuracy: 0.9766 - val_loss: 0.2643\n",
            "Epoch 9/10\n",
            "\u001b[1m599/599\u001b[0m \u001b[32m━━━━━━━━━━━━━━━━━━━━\u001b[0m\u001b[37m\u001b[0m \u001b[1m739s\u001b[0m 1s/step - accuracy: 0.9969 - loss: 0.0096 - val_accuracy: 0.9870 - val_loss: 0.2011\n",
            "Epoch 10/10\n",
            "\u001b[1m599/599\u001b[0m \u001b[32m━━━━━━━━━━━━━━━━━━━━\u001b[0m\u001b[37m\u001b[0m \u001b[1m737s\u001b[0m 1s/step - accuracy: 0.9922 - loss: 0.0279 - val_accuracy: 0.9870 - val_loss: 0.1753\n",
            "Requirement already satisfied: matplotlib in /usr/local/lib/python3.10/dist-packages (3.7.1)\n",
            "Requirement already satisfied: contourpy>=1.0.1 in /usr/local/lib/python3.10/dist-packages (from matplotlib) (1.3.0)\n",
            "Requirement already satisfied: cycler>=0.10 in /usr/local/lib/python3.10/dist-packages (from matplotlib) (0.12.1)\n",
            "Requirement already satisfied: fonttools>=4.22.0 in /usr/local/lib/python3.10/dist-packages (from matplotlib) (4.54.1)\n",
            "Requirement already satisfied: kiwisolver>=1.0.1 in /usr/local/lib/python3.10/dist-packages (from matplotlib) (1.4.7)\n",
            "Requirement already satisfied: numpy>=1.20 in /usr/local/lib/python3.10/dist-packages (from matplotlib) (1.26.4)\n",
            "Requirement already satisfied: packaging>=20.0 in /usr/local/lib/python3.10/dist-packages (from matplotlib) (24.1)\n",
            "Requirement already satisfied: pillow>=6.2.0 in /usr/local/lib/python3.10/dist-packages (from matplotlib) (10.4.0)\n",
            "Requirement already satisfied: pyparsing>=2.3.1 in /usr/local/lib/python3.10/dist-packages (from matplotlib) (3.2.0)\n",
            "Requirement already satisfied: python-dateutil>=2.7 in /usr/local/lib/python3.10/dist-packages (from matplotlib) (2.8.2)\n",
            "Requirement already satisfied: six>=1.5 in /usr/local/lib/python3.10/dist-packages (from python-dateutil>=2.7->matplotlib) (1.16.0)\n"
          ]
        },
        {
          "output_type": "display_data",
          "data": {
            "text/plain": [
              "<Figure size 800x600 with 1 Axes>"
            ],
            "image/png": "[encoded data removed]"
          },
          "metadata": {}
        }
      ]
    },
    {
      "cell_type": "code",
      "source": [
        "model.save('modelo_entrenado.keras')\n",
        "from google.colab import files\n",
        "files.download('modelo_entrenado.keras')"
      ],
      "metadata": {
        "colab": {
          "base_uri": "https://localhost:8080/",
          "height": 34
        },
        "id": "0sdGMwx2-zCS",
        "outputId": "128f59cb-3be1-428f-8ea6-cf5d0d3ac258"
      },
      "execution_count": null,
      "outputs": [
        {
          "output_type": "display_data",
          "data": {
            "text/plain": [
              "<IPython.core.display.Javascript object>"
            ],
            "application/javascript": [
              "\n",
              "    async function download(id, filename, size) {\n",
              "      if (!google.colab.kernel.accessAllowed) {\n",
              "        return;\n",
              "      }\n",
              "      const div = document.createElement('div');\n",
              "      const label = document.createElement('label');\n",
              "      label.textContent = `Downloading \"${filename}\": `;\n",
              "      div.appendChild(label);\n",
              "      const progress = document.createElement('progress');\n",
              "      progress.max = size;\n",
              "      div.appendChild(progress);\n",
              "      document.body.appendChild(div);\n",
              "\n",
              "      const buffers = [];\n",
              "      let downloaded = 0;\n",
              "\n",
              "      const channel = await google.colab.kernel.comms.open(id);\n",
              "      // Send a message to notify the kernel that we're ready.\n",
              "      channel.send({})\n",
              "\n",
              "      for await (const message of channel.messages) {\n",
              "        // Send a message to notify the kernel that we're ready.\n",
              "        channel.send({})\n",
              "        if (message.buffers) {\n",
              "          for (const buffer of message.buffers) {\n",
              "            buffers.push(buffer);\n",
              "            downloaded += buffer.byteLength;\n",
              "            progress.value = downloaded;\n",
              "          }\n",
              "        }\n",
              "      }\n",
              "      const blob = new Blob(buffers, {type: 'application/binary'});\n",
              "      const a = document.createElement('a');\n",
              "      a.href = window.URL.createObjectURL(blob);\n",
              "      a.download = filename;\n",
              "      div.appendChild(a);\n",
              "      a.click();\n",
              "      div.remove();\n",
              "    }\n",
              "  "
            ]
          },
          "metadata": {}
        },
        {
          "output_type": "display_data",
          "data": {
            "text/plain": [
              "<IPython.core.display.Javascript object>"
            ],
            "application/javascript": [
              "download(\"download_d2bfb657-c1f1-4a37-add7-0f30d0dd1460\", \"modelo_entrenado.keras\", 39701098)"
            ]
          },
          "metadata": {}
        }
      ]
    }
  ]
}